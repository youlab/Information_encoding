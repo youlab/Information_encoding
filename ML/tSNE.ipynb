{
 "cells": [
  {
   "cell_type": "markdown",
   "metadata": {},
   "source": [
    "# Libraries"
   ]
  },
  {
   "cell_type": "code",
   "execution_count": null,
   "metadata": {},
   "outputs": [],
   "source": [
    "from keras.models import load_model\n",
    "import numpy as np\n",
    "import pandas as pd\n",
    "from PIL import Image\n",
    "import matplotlib.pyplot as plt\n",
    "import seaborn as sn\n",
    "from sklearn.manifold import TSNE\n",
    "from sklearn.utils import shuffle \n",
    "\n",
    "from resources.data_utils import split_dataset, DataGenerator\n",
    "from resources.model_utils import evaluate_model\n",
    "from resources.utils import label_str_to_dec,binary_label_to_decimal,aggregate_generator_labels"
   ]
  },
  {
   "cell_type": "code",
   "execution_count": null,
   "metadata": {},
   "outputs": [],
   "source": [
    "def inv_softmax(x, C):\n",
    "    return np.log(x) + C"
   ]
  },
  {
   "cell_type": "markdown",
   "metadata": {},
   "source": [
    "# Load data"
   ]
  },
  {
   "cell_type": "code",
   "execution_count": null,
   "metadata": {},
   "outputs": [],
   "source": [
    "dataset = 'dataset_name'\n",
    "path = \"/home/datasets/\"+dataset+'/'\n",
    "path_plaintext = path\n",
    "path_final = path + \"preprocessed_80/\"\n",
    "path_out = '/home/tsne/'\n",
    "if not os.path.exists(path_out):\n",
    "    os.makedirs(path_out)\n",
    "    \n",
    "char_list = [str(i) for i in range(1, num_classes+1)]\n",
    "char2int = {char: i for i, char in enumerate(char_list)}\n",
    "\n",
    "filename        = path_plaintext + 'labels_spot_binary.csv'\n",
    "num_classes     = 15\n",
    "num_replicates  = 1000\n",
    "dataset_size    = num_classes * num_replicates\n",
    "image_dimension = (80, 80)"
   ]
  },
  {
   "cell_type": "code",
   "execution_count": null,
   "metadata": {},
   "outputs": [],
   "source": [
    "# Labels\n",
    "labels = []\n",
    "with open(filename, \"r\") as csvFile:\n",
    "    for row in csvFile:\n",
    "        labels.append(row[:-1])\n",
    "labels = np.asarray(labels)\n",
    "main_labels = label_str_to_dec(labels[0:dataset_size], char2int)\n",
    "\n",
    "# collecting the paths to all images in a set\n",
    "image_prefix = \"FImg_ID_\"\n",
    "image_suffix = \".jpg\"\n",
    "images_str = [\"{}{}{}{}\".format(path_final, image_prefix, img_idx, image_suffix) for img_idx in range(1, dataset_size + 1)]\n",
    "main_dataset = pd.DataFrame({\"img_path\": images_str, \"label\": main_labels})\n",
    "\n",
    "# Split data sets\n",
    "generation_params = {\"dim\": image_dimension,\\\n",
    "                     \"nb_classes\": num_classes,\\\n",
    "                     \"column_img\": \"img_path\",\\\n",
    "                     \"column_label\": \"label\",}\n",
    "\n",
    "df_train, df_valid, df_test = split_dataset(data_frame=main_dataset,\\\n",
    "                                            rank=1,\\\n",
    "                                            column_label=\"label\",\\\n",
    "                                            random_state=25)\n",
    "\n",
    "train_generator = DataGenerator(data_frame=df_train, batch_size=25, shuffle=True, **generation_params)\n",
    "valid_generator = DataGenerator(data_frame=df_valid, batch_size=100, shuffle=False, **generation_params)\n",
    "test_generator  = DataGenerator(data_frame=df_test, batch_size=100, shuffle=False, **generation_params)"
   ]
  },
  {
   "cell_type": "markdown",
   "metadata": {},
   "source": [
    "# Load trained model"
   ]
  },
  {
   "cell_type": "code",
   "execution_count": null,
   "metadata": {},
   "outputs": [],
   "source": [
    "path_model = '/home/trianed_model/model.h5'\n",
    "model = load_model(path_model)"
   ]
  },
  {
   "cell_type": "markdown",
   "metadata": {},
   "source": [
    "# Get raw predictions"
   ]
  },
  {
   "cell_type": "code",
   "execution_count": null,
   "metadata": {},
   "outputs": [],
   "source": [
    "# TRAIN\n",
    "train_predictions = evaluate_model(model, train_generator, 6)\n",
    "train_true_labels = binary_label_to_decimal(aggregate_generator_labels(data_generator=train_generator))\n",
    "train_predictions_filtered = np.where(train_predictions > (10**-31), train_predictions, (10**-32))\n",
    "train_inv_softmax_prediction = inv_softmax(train_predictions_filtered,0)\n",
    "\n",
    "# TEST\n",
    "test_predictions = evaluate_model(model, test_generator, 6)\n",
    "test_true_labels = binary_label_to_decimal(aggregate_generator_labels(data_generator=test_generator))\n",
    "test_predictions_filtered = np.where(test_predictions > (10**-31), test_predictions, (10**-32))\n",
    "test_inv_softmax_prediction = inv_softmax(test_predictions_filtered,0)"
   ]
  },
  {
   "cell_type": "markdown",
   "metadata": {},
   "source": [
    "# tSNE"
   ]
  },
  {
   "cell_type": "code",
   "execution_count": null,
   "metadata": {},
   "outputs": [],
   "source": [
    "# Train TSNE \n",
    "tsne = TSNE(n_components=2, perplexity=50, n_iter= 5000,verbose =1)\n",
    "output_tsne = tsne.fit_transform(train_inv_softmax_prediction)\n",
    "print('DONE')"
   ]
  },
  {
   "cell_type": "code",
   "execution_count": null,
   "metadata": {},
   "outputs": [],
   "source": [
    "# Visualize results\n",
    "X = output_tsne[:,0]\n",
    "Y = output_tsne[:,1]\n",
    "cmap1 = sn.color_palette(\"Paired\", 12)\n",
    "cmap2 = sn.color_palette(\"Set2\", 3)\n",
    "cmap = cmap1+cmap2\n",
    "sn.set_style(\"white\")\n",
    "fig = plt.figure(figsize=(10,10))\n",
    "\n",
    "# Plot by class\n",
    "start = 0\n",
    "end = start+100\n",
    "for i in range(num_classes):\n",
    "    idx = np.where(train_true_labels == i)\n",
    "    plt.scatter(x=X[idx][start:end],y=Y[idx][start:end],label=i+1,color=cmap[i])\n",
    "    \n",
    "plt.legend(loc='right',bbox_to_anchor=(1.3,0.5),fontsize=20)\n",
    "plt.title('tSNE: latent variables',fontsize = 20,fontname='Calibri',color='black')\n",
    "plt.tick_params(axis='x',which='both',bottom=False,top=False,labelbottom=False)\n",
    "plt.tick_params(axis='y',which='both',left=False,right=False,labelleft=False)\n",
    "plt.show()"
   ]
  }
 ],
 "metadata": {
  "kernelspec": {
   "display_name": "Python 3",
   "language": "python",
   "name": "python3"
  },
  "language_info": {
   "codemirror_mode": {
    "name": "ipython",
    "version": 3
   },
   "file_extension": ".py",
   "mimetype": "text/x-python",
   "name": "python",
   "nbconvert_exporter": "python",
   "pygments_lexer": "ipython3",
   "version": "3.8.3"
  }
 },
 "nbformat": 4,
 "nbformat_minor": 4
}
