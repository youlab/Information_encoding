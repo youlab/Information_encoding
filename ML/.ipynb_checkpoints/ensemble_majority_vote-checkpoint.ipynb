{
 "cells": [
  {
   "cell_type": "markdown",
   "metadata": {},
   "source": [
    "# Libraries"
   ]
  },
  {
   "cell_type": "code",
   "execution_count": null,
   "metadata": {},
   "outputs": [],
   "source": [
    "import numpy as np\n",
    "import pandas as pd\n",
    "import random\n",
    "from sklearn.metrics import accuracy_score\n",
    "from collections import Counter\n",
    "from keras.models import load_model\n",
    "from utils import label_binary_to_dec\n",
    "from resources.data_utils import split_dataset, DataGenerator\n",
    "from resources.model_utils import evaluate_model\n",
    "from resources.utils import label_str_to_dec,prediction_standardized,aggregate_generator_labels"
   ]
  },
  {
   "cell_type": "markdown",
   "metadata": {},
   "source": [
    "# Load data"
   ]
  },
  {
   "cell_type": "code",
   "execution_count": null,
   "metadata": {},
   "outputs": [],
   "source": [
    "dataset = 'dataset_name'\n",
    "path = \"/home/datasets/\"+dataset+'/'\n",
    "path_plaintext = path\n",
    "path_final = path + \"preprocessed_80/\"\n",
    "path_out = '/home/majority_vote/'\n",
    "if not os.path.exists(path_out):\n",
    "    os.makedirs(path_out)\n",
    "    \n",
    "char_list = [str(i) for i in range(1, num_classes+1)]\n",
    "char2int = {char: i for i, char in enumerate(char_list)}\n",
    "\n",
    "filename        = path_plaintext + 'labels_spot_binary.csv'\n",
    "num_classes     = 15\n",
    "num_replicates  = 1000\n",
    "dataset_size    = num_classes * num_replicates\n",
    "image_dimension = (80, 80)"
   ]
  },
  {
   "cell_type": "code",
   "execution_count": null,
   "metadata": {},
   "outputs": [],
   "source": [
    "# Labels\n",
    "labels = []\n",
    "with open(filename, \"r\") as csvFile:\n",
    "    for row in csvFile:\n",
    "        labels.append(row[:-1])\n",
    "labels = np.asarray(labels)\n",
    "main_labels = label_str_to_dec(labels[0:dataset_size], char2int)\n",
    "\n",
    "# Patterns\n",
    "image_prefix = \"FImg_ID_\"\n",
    "image_suffix = \".jpg\"\n",
    "images_str = [\"{}{}{}{}\".format(path_final, image_prefix, img_idx, image_suffix) for img_idx in range(1, dataset_size + 1)]\n",
    "main_dataset = pd.DataFrame({\"img_path\": images_str, \"label\": main_labels})\n",
    "\n",
    "# Split data sets \n",
    "generation_params = {\"dim\": image_dimension,\\\n",
    "                     \"nb_classes\": num_classes,\\\n",
    "                     \"column_img\": \"img_path\",\\\n",
    "                     \"column_label\": \"label\",}\n",
    "df_train, df_valid, df_test = split_dataset(data_frame=main_dataset,\n",
    "                                            rank=1,\n",
    "                                            column_label=\"label\",\n",
    "                                            random_state=25)\n",
    "train_generator = DataGenerator(data_frame=df_train, batch_size=16, shuffle=True, **generation_params)\n",
    "valid_generator = DataGenerator(data_frame=df_valid, batch_size=100, shuffle=False, **generation_params)\n",
    "test_generator = DataGenerator(data_frame=df_test, batch_size=100, shuffle=False, **generation_params)"
   ]
  },
  {
   "cell_type": "markdown",
   "metadata": {},
   "source": [
    "# Load trained model"
   ]
  },
  {
   "cell_type": "code",
   "execution_count": null,
   "metadata": {},
   "outputs": [],
   "source": [
    "path_model = '/home/trained_models/model.h5'\n",
    "trained_model = load_model(path_model)"
   ]
  },
  {
   "cell_type": "code",
   "execution_count": null,
   "metadata": {},
   "outputs": [],
   "source": [
    "# Get predictions\n",
    "y_test_pred = label_binary_to_dec(prediction_standardized(evaluate_model(trained_model, test_generator, 6)))\n",
    "# Get true labels\n",
    "y_test_true = label_binary_to_dec(aggregate_generator_labels(data_generator=test_generator)) \n",
    "# Compute accuracy of using 1 pattern\n",
    "acc_test = accuracy_score(y_test_true, y_test_pred)"
   ]
  },
  {
   "cell_type": "markdown",
   "metadata": {},
   "source": [
    "# Multiple patterns for transmission"
   ]
  },
  {
   "cell_type": "code",
   "execution_count": null,
   "metadata": {},
   "outputs": [],
   "source": [
    "n = 3 # number of sampels to use for decoding\n",
    "majority_vote= []\n",
    "for i in range(len(y_test_true)):\n",
    "    y = y_test_true[i]\n",
    "    idx = np.where(y_test_true == y)\n",
    "    idx = list(idx[0])\n",
    "    idx.remove(i)\n",
    "    idx = random.sample(idx, n-1)\n",
    "    idx = idx+[i]\n",
    "    n_pred = y_test_pred[idx]    \n",
    "    mv = Counter(n_pred)\n",
    "    mv = mv.most_common(1)[0][0]\n",
    "    majority_vote.append(mv)"
   ]
  },
  {
   "cell_type": "code",
   "execution_count": null,
   "metadata": {},
   "outputs": [],
   "source": [
    "# Compute majority vote accuracy\n",
    "vote_accuracy = accuracy_score(y_test_true,majority_vote)\n",
    "print('Trianing size: '+str(training_dataset_size))\n",
    "print('Original accuracy: '+str(acc_test))\n",
    "print('Majority vote: '+str(vote_accuracy))"
   ]
  }
 ],
 "metadata": {
  "kernelspec": {
   "display_name": "Python 3",
   "language": "python",
   "name": "python3"
  },
  "language_info": {
   "codemirror_mode": {
    "name": "ipython",
    "version": 3
   },
   "file_extension": ".py",
   "mimetype": "text/x-python",
   "name": "python",
   "nbconvert_exporter": "python",
   "pygments_lexer": "ipython3",
   "version": "3.8.3"
  }
 },
 "nbformat": 4,
 "nbformat_minor": 4
}
